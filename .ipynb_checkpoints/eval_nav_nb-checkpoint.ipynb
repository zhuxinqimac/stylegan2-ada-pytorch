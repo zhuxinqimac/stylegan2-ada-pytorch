{
 "cells": [
  {
   "cell_type": "markdown",
   "id": "ee78ae93",
   "metadata": {},
   "source": [
    "# Import packages"
   ]
  },
  {
   "cell_type": "code",
   "execution_count": 1,
   "id": "d836784d",
   "metadata": {},
   "outputs": [],
   "source": [
    "#!/usr/bin/python\n",
    "#-*- coding: utf-8 -*-\n",
    "\n",
    "# >.>.>.>.>.>.>.>.>.>.>.>.>.>.>.>.\n",
    "# Licensed under the Apache License, Version 2.0 (the \"License\")\n",
    "# You may obtain a copy of the License at\n",
    "# http://www.apache.org/licenses/LICENSE-2.0\n",
    "\n",
    "# --- File Name: eval_nav.py\n",
    "# --- Creation Date: 16-02-2022\n",
    "# --- Last Modified: Thu 17 Feb 2022 00:34:50 AEDT\n",
    "# --- Author: Xinqi Zhu\n",
    "# .<.<.<.<.<.<.<.<.<.<.<.<.<.<.<.<\n",
    "\"\"\"\n",
    "Evaluate Navigators with a pretrained attr discrim network.\n",
    "\"\"\"\n",
    "%matplotlib inline\n",
    "\n",
    "import os\n",
    "\n",
    "from typing import List\n",
    "import pickle\n",
    "import click\n",
    "import matplotlib.pyplot as plt\n",
    "import dnnlib\n",
    "import numpy as np\n",
    "import torch\n",
    "import torch.nn.functional as F\n",
    "import lpips\n",
    "\n",
    "import legacy"
   ]
  },
  {
   "cell_type": "code",
   "execution_count": 2,
   "id": "8683876e",
   "metadata": {},
   "outputs": [],
   "source": [
    "generator_pkl = 'ffhq512'\n",
    "# navigator_pkl = '/mnt/hpc_scratch/stylegan2-ada-pytorch/nav_eccv22_atl_fixedES_neig30_ffhq512_1/00008-ffhq512-z_30-lr_0.01-wals_0.3-prand_F-vart_s-mcont_1-dis_512-dic_3-mir_T-ldimg_T-ndup_1-sensor_alex-sensl_10-ftop_T-fdf_F-at_fixed-nt_fixedES-neig_30-afc_3-nfc_3-atl_14-atg_3-cont_0-pos_1-neg_1-div_0.1-ncol_2-dys_T-vars_1-kimg1000-batch28/network-snapshot-001000.pkl'\n",
    "# navigator_pkl = '/mnt/hpc_scratch/stylegan2-ada-pytorch/nav_eccv22_pcabase_ffhq512/00002-ffhq512-z_50-lr_0.01-wals_1-prand_F-vart_s-mcont_0-dis_512-dic_3-mir_T-ldimg_T-ndup_1-sensor_alex-sensl_10-ftop_T-fdf_F-vmul_T-at_none-nt_pca-neig_100-afc_3-nfc_3-atl_16-atg_3-cont_0-pos_1-neg_1-div_0-ncol_2-dys_T-vars_0.5-kimg80-batch6/network-snapshot-init.pkl'\n",
    "attr_discrim_pkl = '/mnt/hpc_hdd_2/repo_results/stylegan2/results_vc2_byvae_ffhq512/00033-vc2_gan-ffhq-4gpu-config-c/converted_ps_sc/00000-convert/attr_discrim_model/00005-00012-pseudo_attr_data-attr-ch_3-dout_24-netn_resnet50-pretr_True-loss_reg-tsize_17000-kimg25000-batch64-noaug/network-snapshot-002016.pkl'\n",
    "\n",
    "used_attr_idx = [0,1,2,3,4,5,6,7,8,9,10,11,14,16,17] # more accurate\n",
    "\n",
    "seed = 2022\n",
    "#outdir = '/mnt/hpc_scratch/stylegan2-ada-pytorch/nav_cvpr22_mir_hw_mcont_z_dsNeig_ffhq512/00028-ffhq512-z_10-lr_0.01-wals_1-prand_F-vart_s-mcont_1-dis_512-dic_3-mir_T-ndup_1-sensor_alex-sensl_10-ftop_T-fdf_F-vmul_T-at_fixed-nt_fixedE-neig_4-afc_3-nfc_3-atl_16-atg_3-cont_0-pos_1-neg_1-div_0.1-ncol_16-dys_T-vars_0.5-kimg160-batch32/eval_nav'\n",
    "# outdir = os.path.join(os.path.dirname(navigator_pkl), 'eval_nav')\n",
    "outdir = '/mnt/hpc_scratch/stylegan2-ada-pytorch/compare_navs'\n",
    "n_samples_per = 1000\n",
    "batch_gpu = 16\n",
    "truncation_psi = 0.5"
   ]
  },
  {
   "cell_type": "code",
   "execution_count": 79,
   "id": "4c16d47b",
   "metadata": {},
   "outputs": [
    {
     "name": "stdout",
     "output_type": "stream",
     "text": [
      "Loading generator networks from \"https://nvlabs-fi-cdn.nvidia.com/stylegan2-ada-pytorch/pretrained/transfer-learning-source-nets/ffhq-res512-mirror-stylegan2-noaug.pkl\"...\n",
      "Done loading.\n"
     ]
    }
   ],
   "source": [
    "print('Loading generator networks from \"%s\"...' % generator_pkl)\n",
    "\n",
    "resume_specs = {\n",
    "    'ffhq256':     'https://nvlabs-fi-cdn.nvidia.com/stylegan2-ada-pytorch/pretrained/transfer-learning-source-nets/ffhq-res256-mirror-paper256-noaug.pkl',\n",
    "    'ffhq512':     'https://nvlabs-fi-cdn.nvidia.com/stylegan2-ada-pytorch/pretrained/transfer-learning-source-nets/ffhq-res512-mirror-stylegan2-noaug.pkl',\n",
    "    'ffhq1024':    'https://nvlabs-fi-cdn.nvidia.com/stylegan2-ada-pytorch/pretrained/transfer-learning-source-nets/ffhq-res1024-mirror-stylegan2-noaug.pkl',\n",
    "    'celebahq256': 'https://nvlabs-fi-cdn.nvidia.com/stylegan2-ada-pytorch/pretrained/transfer-learning-source-nets/celebahq-res256-mirror-paper256-kimg100000-ada-target0.5.pkl',\n",
    "    'lsundog256':  'https://nvlabs-fi-cdn.nvidia.com/stylegan2-ada-pytorch/pretrained/transfer-learning-source-nets/lsundog-res256-paper256-kimg100000-noaug.pkl',\n",
    "}\n",
    "\n",
    "assert generator_pkl is not None\n",
    "if generator_pkl in resume_specs:\n",
    "    generator_pkl = resume_specs[generator_pkl] # predefined url\n",
    "\n",
    "device = torch.device('cuda:1')\n",
    "# device = torch.device('cpu')\n",
    "with dnnlib.util.open_url(generator_pkl) as f:\n",
    "    G = legacy.load_network_pkl(f)['G_ema'].requires_grad_(False).to(device) # type: ignore\n",
    "\n",
    "def load_M(navigator_pkl):\n",
    "    with open(navigator_pkl, 'rb') as f:\n",
    "        resume_data = pickle.load(f)\n",
    "        M = resume_data['M'].requires_grad_(False).to(device)\n",
    "    return M\n",
    "\n",
    "with open(attr_discrim_pkl, 'rb') as f:\n",
    "    resume_data = pickle.load(f)\n",
    "    D = resume_data['D_ema'].requires_grad_(False).to(device)\n",
    "print('Done loading.')"
   ]
  },
  {
   "cell_type": "code",
   "execution_count": 16,
   "id": "e6bded4d",
   "metadata": {},
   "outputs": [
    {
     "name": "stdout",
     "output_type": "stream",
     "text": [
      "BackboneNet(\n",
      "  (net): ResNet(\n",
      "    (conv1): Conv2d(3, 64, kernel_size=(7, 7), stride=(2, 2), padding=(3, 3), bias=False)\n",
      "    (bn1): BatchNorm2d(64, eps=1e-05, momentum=0.1, affine=True, track_running_stats=True)\n",
      "    (relu): ReLU(inplace=True)\n",
      "    (maxpool): MaxPool2d(kernel_size=3, stride=2, padding=1, dilation=1, ceil_mode=False)\n",
      "    (layer1): Sequential(\n",
      "      (0): Bottleneck(\n",
      "        (conv1): Conv2d(64, 64, kernel_size=(1, 1), stride=(1, 1), bias=False)\n",
      "        (bn1): BatchNorm2d(64, eps=1e-05, momentum=0.1, affine=True, track_running_stats=True)\n",
      "        (conv2): Conv2d(64, 64, kernel_size=(3, 3), stride=(1, 1), padding=(1, 1), bias=False)\n",
      "        (bn2): BatchNorm2d(64, eps=1e-05, momentum=0.1, affine=True, track_running_stats=True)\n",
      "        (conv3): Conv2d(64, 256, kernel_size=(1, 1), stride=(1, 1), bias=False)\n",
      "        (bn3): BatchNorm2d(256, eps=1e-05, momentum=0.1, affine=True, track_running_stats=True)\n",
      "        (relu): ReLU(inplace=True)\n",
      "        (downsample): Sequential(\n",
      "          (0): Conv2d(64, 256, kernel_size=(1, 1), stride=(1, 1), bias=False)\n",
      "          (1): BatchNorm2d(256, eps=1e-05, momentum=0.1, affine=True, track_running_stats=True)\n",
      "        )\n",
      "      )\n",
      "      (1): Bottleneck(\n",
      "        (conv1): Conv2d(256, 64, kernel_size=(1, 1), stride=(1, 1), bias=False)\n",
      "        (bn1): BatchNorm2d(64, eps=1e-05, momentum=0.1, affine=True, track_running_stats=True)\n",
      "        (conv2): Conv2d(64, 64, kernel_size=(3, 3), stride=(1, 1), padding=(1, 1), bias=False)\n",
      "        (bn2): BatchNorm2d(64, eps=1e-05, momentum=0.1, affine=True, track_running_stats=True)\n",
      "        (conv3): Conv2d(64, 256, kernel_size=(1, 1), stride=(1, 1), bias=False)\n",
      "        (bn3): BatchNorm2d(256, eps=1e-05, momentum=0.1, affine=True, track_running_stats=True)\n",
      "        (relu): ReLU(inplace=True)\n",
      "      )\n",
      "      (2): Bottleneck(\n",
      "        (conv1): Conv2d(256, 64, kernel_size=(1, 1), stride=(1, 1), bias=False)\n",
      "        (bn1): BatchNorm2d(64, eps=1e-05, momentum=0.1, affine=True, track_running_stats=True)\n",
      "        (conv2): Conv2d(64, 64, kernel_size=(3, 3), stride=(1, 1), padding=(1, 1), bias=False)\n",
      "        (bn2): BatchNorm2d(64, eps=1e-05, momentum=0.1, affine=True, track_running_stats=True)\n",
      "        (conv3): Conv2d(64, 256, kernel_size=(1, 1), stride=(1, 1), bias=False)\n",
      "        (bn3): BatchNorm2d(256, eps=1e-05, momentum=0.1, affine=True, track_running_stats=True)\n",
      "        (relu): ReLU(inplace=True)\n",
      "      )\n",
      "    )\n",
      "    (layer2): Sequential(\n",
      "      (0): Bottleneck(\n",
      "        (conv1): Conv2d(256, 128, kernel_size=(1, 1), stride=(1, 1), bias=False)\n",
      "        (bn1): BatchNorm2d(128, eps=1e-05, momentum=0.1, affine=True, track_running_stats=True)\n",
      "        (conv2): Conv2d(128, 128, kernel_size=(3, 3), stride=(2, 2), padding=(1, 1), bias=False)\n",
      "        (bn2): BatchNorm2d(128, eps=1e-05, momentum=0.1, affine=True, track_running_stats=True)\n",
      "        (conv3): Conv2d(128, 512, kernel_size=(1, 1), stride=(1, 1), bias=False)\n",
      "        (bn3): BatchNorm2d(512, eps=1e-05, momentum=0.1, affine=True, track_running_stats=True)\n",
      "        (relu): ReLU(inplace=True)\n",
      "        (downsample): Sequential(\n",
      "          (0): Conv2d(256, 512, kernel_size=(1, 1), stride=(2, 2), bias=False)\n",
      "          (1): BatchNorm2d(512, eps=1e-05, momentum=0.1, affine=True, track_running_stats=True)\n",
      "        )\n",
      "      )\n",
      "      (1): Bottleneck(\n",
      "        (conv1): Conv2d(512, 128, kernel_size=(1, 1), stride=(1, 1), bias=False)\n",
      "        (bn1): BatchNorm2d(128, eps=1e-05, momentum=0.1, affine=True, track_running_stats=True)\n",
      "        (conv2): Conv2d(128, 128, kernel_size=(3, 3), stride=(1, 1), padding=(1, 1), bias=False)\n",
      "        (bn2): BatchNorm2d(128, eps=1e-05, momentum=0.1, affine=True, track_running_stats=True)\n",
      "        (conv3): Conv2d(128, 512, kernel_size=(1, 1), stride=(1, 1), bias=False)\n",
      "        (bn3): BatchNorm2d(512, eps=1e-05, momentum=0.1, affine=True, track_running_stats=True)\n",
      "        (relu): ReLU(inplace=True)\n",
      "      )\n",
      "      (2): Bottleneck(\n",
      "        (conv1): Conv2d(512, 128, kernel_size=(1, 1), stride=(1, 1), bias=False)\n",
      "        (bn1): BatchNorm2d(128, eps=1e-05, momentum=0.1, affine=True, track_running_stats=True)\n",
      "        (conv2): Conv2d(128, 128, kernel_size=(3, 3), stride=(1, 1), padding=(1, 1), bias=False)\n",
      "        (bn2): BatchNorm2d(128, eps=1e-05, momentum=0.1, affine=True, track_running_stats=True)\n",
      "        (conv3): Conv2d(128, 512, kernel_size=(1, 1), stride=(1, 1), bias=False)\n",
      "        (bn3): BatchNorm2d(512, eps=1e-05, momentum=0.1, affine=True, track_running_stats=True)\n",
      "        (relu): ReLU(inplace=True)\n",
      "      )\n",
      "      (3): Bottleneck(\n",
      "        (conv1): Conv2d(512, 128, kernel_size=(1, 1), stride=(1, 1), bias=False)\n",
      "        (bn1): BatchNorm2d(128, eps=1e-05, momentum=0.1, affine=True, track_running_stats=True)\n",
      "        (conv2): Conv2d(128, 128, kernel_size=(3, 3), stride=(1, 1), padding=(1, 1), bias=False)\n",
      "        (bn2): BatchNorm2d(128, eps=1e-05, momentum=0.1, affine=True, track_running_stats=True)\n",
      "        (conv3): Conv2d(128, 512, kernel_size=(1, 1), stride=(1, 1), bias=False)\n",
      "        (bn3): BatchNorm2d(512, eps=1e-05, momentum=0.1, affine=True, track_running_stats=True)\n",
      "        (relu): ReLU(inplace=True)\n",
      "      )\n",
      "    )\n",
      "    (layer3): Sequential(\n",
      "      (0): Bottleneck(\n",
      "        (conv1): Conv2d(512, 256, kernel_size=(1, 1), stride=(1, 1), bias=False)\n",
      "        (bn1): BatchNorm2d(256, eps=1e-05, momentum=0.1, affine=True, track_running_stats=True)\n",
      "        (conv2): Conv2d(256, 256, kernel_size=(3, 3), stride=(2, 2), padding=(1, 1), bias=False)\n",
      "        (bn2): BatchNorm2d(256, eps=1e-05, momentum=0.1, affine=True, track_running_stats=True)\n",
      "        (conv3): Conv2d(256, 1024, kernel_size=(1, 1), stride=(1, 1), bias=False)\n",
      "        (bn3): BatchNorm2d(1024, eps=1e-05, momentum=0.1, affine=True, track_running_stats=True)\n",
      "        (relu): ReLU(inplace=True)\n",
      "        (downsample): Sequential(\n",
      "          (0): Conv2d(512, 1024, kernel_size=(1, 1), stride=(2, 2), bias=False)\n",
      "          (1): BatchNorm2d(1024, eps=1e-05, momentum=0.1, affine=True, track_running_stats=True)\n",
      "        )\n",
      "      )\n",
      "      (1): Bottleneck(\n",
      "        (conv1): Conv2d(1024, 256, kernel_size=(1, 1), stride=(1, 1), bias=False)\n",
      "        (bn1): BatchNorm2d(256, eps=1e-05, momentum=0.1, affine=True, track_running_stats=True)\n",
      "        (conv2): Conv2d(256, 256, kernel_size=(3, 3), stride=(1, 1), padding=(1, 1), bias=False)\n",
      "        (bn2): BatchNorm2d(256, eps=1e-05, momentum=0.1, affine=True, track_running_stats=True)\n",
      "        (conv3): Conv2d(256, 1024, kernel_size=(1, 1), stride=(1, 1), bias=False)\n",
      "        (bn3): BatchNorm2d(1024, eps=1e-05, momentum=0.1, affine=True, track_running_stats=True)\n",
      "        (relu): ReLU(inplace=True)\n",
      "      )\n",
      "      (2): Bottleneck(\n",
      "        (conv1): Conv2d(1024, 256, kernel_size=(1, 1), stride=(1, 1), bias=False)\n",
      "        (bn1): BatchNorm2d(256, eps=1e-05, momentum=0.1, affine=True, track_running_stats=True)\n",
      "        (conv2): Conv2d(256, 256, kernel_size=(3, 3), stride=(1, 1), padding=(1, 1), bias=False)\n",
      "        (bn2): BatchNorm2d(256, eps=1e-05, momentum=0.1, affine=True, track_running_stats=True)\n",
      "        (conv3): Conv2d(256, 1024, kernel_size=(1, 1), stride=(1, 1), bias=False)\n",
      "        (bn3): BatchNorm2d(1024, eps=1e-05, momentum=0.1, affine=True, track_running_stats=True)\n",
      "        (relu): ReLU(inplace=True)\n",
      "      )\n",
      "      (3): Bottleneck(\n",
      "        (conv1): Conv2d(1024, 256, kernel_size=(1, 1), stride=(1, 1), bias=False)\n",
      "        (bn1): BatchNorm2d(256, eps=1e-05, momentum=0.1, affine=True, track_running_stats=True)\n",
      "        (conv2): Conv2d(256, 256, kernel_size=(3, 3), stride=(1, 1), padding=(1, 1), bias=False)\n",
      "        (bn2): BatchNorm2d(256, eps=1e-05, momentum=0.1, affine=True, track_running_stats=True)\n",
      "        (conv3): Conv2d(256, 1024, kernel_size=(1, 1), stride=(1, 1), bias=False)\n",
      "        (bn3): BatchNorm2d(1024, eps=1e-05, momentum=0.1, affine=True, track_running_stats=True)\n",
      "        (relu): ReLU(inplace=True)\n",
      "      )\n",
      "      (4): Bottleneck(\n",
      "        (conv1): Conv2d(1024, 256, kernel_size=(1, 1), stride=(1, 1), bias=False)\n",
      "        (bn1): BatchNorm2d(256, eps=1e-05, momentum=0.1, affine=True, track_running_stats=True)\n",
      "        (conv2): Conv2d(256, 256, kernel_size=(3, 3), stride=(1, 1), padding=(1, 1), bias=False)\n",
      "        (bn2): BatchNorm2d(256, eps=1e-05, momentum=0.1, affine=True, track_running_stats=True)\n",
      "        (conv3): Conv2d(256, 1024, kernel_size=(1, 1), stride=(1, 1), bias=False)\n",
      "        (bn3): BatchNorm2d(1024, eps=1e-05, momentum=0.1, affine=True, track_running_stats=True)\n",
      "        (relu): ReLU(inplace=True)\n",
      "      )\n",
      "      (5): Bottleneck(\n",
      "        (conv1): Conv2d(1024, 256, kernel_size=(1, 1), stride=(1, 1), bias=False)\n",
      "        (bn1): BatchNorm2d(256, eps=1e-05, momentum=0.1, affine=True, track_running_stats=True)\n",
      "        (conv2): Conv2d(256, 256, kernel_size=(3, 3), stride=(1, 1), padding=(1, 1), bias=False)\n",
      "        (bn2): BatchNorm2d(256, eps=1e-05, momentum=0.1, affine=True, track_running_stats=True)\n",
      "        (conv3): Conv2d(256, 1024, kernel_size=(1, 1), stride=(1, 1), bias=False)\n",
      "        (bn3): BatchNorm2d(1024, eps=1e-05, momentum=0.1, affine=True, track_running_stats=True)\n",
      "        (relu): ReLU(inplace=True)\n",
      "      )\n",
      "    )\n",
      "    (layer4): Sequential(\n",
      "      (0): Bottleneck(\n",
      "        (conv1): Conv2d(1024, 512, kernel_size=(1, 1), stride=(1, 1), bias=False)\n",
      "        (bn1): BatchNorm2d(512, eps=1e-05, momentum=0.1, affine=True, track_running_stats=True)\n",
      "        (conv2): Conv2d(512, 512, kernel_size=(3, 3), stride=(2, 2), padding=(1, 1), bias=False)\n",
      "        (bn2): BatchNorm2d(512, eps=1e-05, momentum=0.1, affine=True, track_running_stats=True)\n",
      "        (conv3): Conv2d(512, 2048, kernel_size=(1, 1), stride=(1, 1), bias=False)\n",
      "        (bn3): BatchNorm2d(2048, eps=1e-05, momentum=0.1, affine=True, track_running_stats=True)\n",
      "        (relu): ReLU(inplace=True)\n",
      "        (downsample): Sequential(\n",
      "          (0): Conv2d(1024, 2048, kernel_size=(1, 1), stride=(2, 2), bias=False)\n",
      "          (1): BatchNorm2d(2048, eps=1e-05, momentum=0.1, affine=True, track_running_stats=True)\n",
      "        )\n",
      "      )\n",
      "      (1): Bottleneck(\n",
      "        (conv1): Conv2d(2048, 512, kernel_size=(1, 1), stride=(1, 1), bias=False)\n",
      "        (bn1): BatchNorm2d(512, eps=1e-05, momentum=0.1, affine=True, track_running_stats=True)\n",
      "        (conv2): Conv2d(512, 512, kernel_size=(3, 3), stride=(1, 1), padding=(1, 1), bias=False)\n",
      "        (bn2): BatchNorm2d(512, eps=1e-05, momentum=0.1, affine=True, track_running_stats=True)\n",
      "        (conv3): Conv2d(512, 2048, kernel_size=(1, 1), stride=(1, 1), bias=False)\n",
      "        (bn3): BatchNorm2d(2048, eps=1e-05, momentum=0.1, affine=True, track_running_stats=True)\n",
      "        (relu): ReLU(inplace=True)\n",
      "      )\n",
      "      (2): Bottleneck(\n",
      "        (conv1): Conv2d(2048, 512, kernel_size=(1, 1), stride=(1, 1), bias=False)\n",
      "        (bn1): BatchNorm2d(512, eps=1e-05, momentum=0.1, affine=True, track_running_stats=True)\n",
      "        (conv2): Conv2d(512, 512, kernel_size=(3, 3), stride=(1, 1), padding=(1, 1), bias=False)\n",
      "        (bn2): BatchNorm2d(512, eps=1e-05, momentum=0.1, affine=True, track_running_stats=True)\n",
      "        (conv3): Conv2d(512, 2048, kernel_size=(1, 1), stride=(1, 1), bias=False)\n",
      "        (bn3): BatchNorm2d(2048, eps=1e-05, momentum=0.1, affine=True, track_running_stats=True)\n",
      "        (relu): ReLU(inplace=True)\n",
      "      )\n",
      "    )\n",
      "    (avgpool): AdaptiveAvgPool2d(output_size=(1, 1))\n",
      "    (fc): Linear(in_features=2048, out_features=24, bias=True)\n",
      "  )\n",
      ")\n"
     ]
    }
   ],
   "source": [
    "print(D)"
   ]
  },
  {
   "cell_type": "code",
   "execution_count": 4,
   "id": "642435f2",
   "metadata": {},
   "outputs": [],
   "source": [
    "os.makedirs(outdir, exist_ok=True)"
   ]
  },
  {
   "cell_type": "code",
   "execution_count": 5,
   "id": "aa7454ef",
   "metadata": {},
   "outputs": [],
   "source": [
    "def show(img):\n",
    "    img = (img - img.min()) / (img.max() - img.min())\n",
    "    npimg = img.numpy()\n",
    "    plt.imshow(np.transpose(npimg, (1,2,0)), interpolation='nearest')"
   ]
  },
  {
   "cell_type": "code",
   "execution_count": 58,
   "id": "378fadd6",
   "metadata": {
    "scrolled": false
   },
   "outputs": [],
   "source": [
    "def try_var_scale_ls(M, var_scale_ls, idx, used_dims, seed=0, truncation_psi=0.3):\n",
    "    torch.random.manual_seed(seed)\n",
    "    z = torch.randn([1, G.z_dim], device=device)\n",
    "    c = torch.randn([1, G.c_dim], device=device)\n",
    "    w = G.mapping(z, c, truncation_psi=truncation_psi) # (b, num_ws, w_dim)\n",
    "    dirs = M(w) # [b, nv_dim, num_ws, w_dim]\n",
    "    print('dirs.shape', dirs.shape)\n",
    "    w_1 = w - dirs[:, used_dims[idx]] * var_scale_ls[idx]\n",
    "    w_2 = w + dirs[:, used_dims[idx]] * var_scale_ls[idx] # [b, num_ws, w_dim]\n",
    "    print(idx)\n",
    "    image = G.synthesis(w_1, noise_mode='const')\n",
    "    image_2 = G.synthesis(w_2, noise_mode='const')\n",
    "    print(image.shape)\n",
    "\n",
    "    show(torch.cat([image, image_2], dim=3)[0].cpu())\n",
    "# try_var_scale_ls(M, var_scale_ls=[1] * M.nv_dim, idx=0, seed=20)"
   ]
  },
  {
   "cell_type": "code",
   "execution_count": 73,
   "id": "bbe831c4",
   "metadata": {},
   "outputs": [],
   "source": [
    "# Eval for each variation dim\n",
    "# var_scale_ls = [5, 1, 1, 1, 5, 3, 1, 3, 5, 5]\n",
    "#var_scale_ls = [1] * M.nv_dim\n",
    "\n",
    "def evaluate_model(G, M, D, var_scale_ls=[2]*30, used_dims=[1,2,3], truncation_psi=0.5, n_samples_per=500):\n",
    "    attr_score_shift_summary_ls = []\n",
    "    img_mean = torch.tensor([0.485, 0.456, 0.406]).to(device).view(1,3,1,1)\n",
    "    img_std = torch.tensor([0.229, 0.224, 0.225]).to(device).view(1,3,1,1)\n",
    "    rand_state = np.random.RandomState()\n",
    "    for i, dim in enumerate(used_dims):\n",
    "        attr_score_shift_ls = []\n",
    "        print(f'Processing dim {i}')\n",
    "        for j in range(0, n_samples_per, batch_gpu):\n",
    "            b = batch_gpu if j+batch_gpu <= n_samples_per else n_samples_per-j\n",
    "\n",
    "            z = torch.from_numpy(rand_state.randn(b, G.z_dim)).to(device)\n",
    "            c = torch.from_numpy(rand_state.randn(b, G.c_dim)).to(device)\n",
    "            w = G.mapping(z, c, truncation_psi=truncation_psi) # (b, num_ws, w_dim)\n",
    "\n",
    "            dirs = M(w) # [b, nv_dim, num_ws, w_dim]\n",
    "#             print('dirs.shape:', dirs.shape)\n",
    "#             print('var_scale_ls:', var_scale_ls)\n",
    "#             print('dim:', dim)\n",
    "#             print('i:', i)\n",
    "            w_1 = w - dirs[:, dim] * var_scale_ls[i]\n",
    "            w_2 = w + dirs[:, dim] * var_scale_ls[i] # [b, num_ws, w_dim]\n",
    "\n",
    "            images = torch.cat([G.synthesis(w_1, noise_mode='const'),\n",
    "                                G.synthesis(w_2, noise_mode='const')], dim=0) # (2b, c, h, w)\n",
    "        \n",
    "            # Normalize to fit model D\n",
    "            # images_flat = images.view(2*b, -1)\n",
    "            # img_min, img_max = images_flat.min(dim=-1)[0], images_flat.max(dim=-1)[0]\n",
    "            # images = (images - img_min.view(2*b, 1, 1, 1)) / (img_max - img_min).view(2*b, 1, 1, 1)\n",
    "            images = (images + 1.) / 2. # From [-1, 1] to [0, 1]\n",
    "            images = (images - img_mean) / img_std\n",
    "        \n",
    "            attr_pred = D(images) # [2b, nlabel]\n",
    "            attr_score_shift = attr_pred[b:] - attr_pred[:b] # [b, nlabel]\n",
    "            attr_score_shift_ls.append(attr_score_shift.to('cpu'))\n",
    "        attr_score_shift_i = torch.cat(attr_score_shift_ls, dim=0).mean(0) # [nlabel]\n",
    "        attr_score_shift_summary_ls.append(attr_score_shift_i)\n",
    "    return attr_score_shift_summary_ls"
   ]
  },
  {
   "cell_type": "code",
   "execution_count": 8,
   "id": "36dcd312",
   "metadata": {},
   "outputs": [],
   "source": [
    "def summarize(attr_score_shift_summary_ls, name='pca'):\n",
    "    attr_score_shift_summary = torch.stack(attr_score_shift_summary_ls, dim=0) # [nv_dim, nlabel]\n",
    "    print(attr_score_shift_summary.shape)\n",
    "\n",
    "    scores_np = np.abs(attr_score_shift_summary.numpy())\n",
    "    scores_normed = scores_np[:, used_attr_idx] / scores_np[:, used_attr_idx].max(axis=1, keepdims=True)\n",
    "    \n",
    "    scores_copy = scores_np.copy()\n",
    "    scores_copy.sort(axis=-1)\n",
    "    score = (scores_copy[:30, -1] - scores_copy[:30, -2]).mean()\n",
    "    print('before normed:', score)\n",
    "    \n",
    "    scores_copy = scores_normed.copy()\n",
    "    scores_copy.sort(axis=-1)\n",
    "    score = (scores_copy[:30, -1] - scores_copy[:30, -2]).mean()\n",
    "    print('after normed:', score)\n",
    "    \n",
    "    attr_discovered = (scores_normed == 1.).any(axis=0)\n",
    "    n_discovered = attr_discovered.sum()\n",
    "    print('attr_discovered:', attr_discovered)\n",
    "    print('n_discovered:', n_discovered)\n",
    "    \n",
    "    plt.clf()\n",
    "    plt.imshow(scores_normed[:30], cmap='viridis')\n",
    "    # plt.imshow(scores_np[:30], cmap='viridis')\n",
    "    plt.colorbar()\n",
    "    #plt.show()\n",
    "    plt.savefig(os.path.join(outdir, f'attr_score_shift_{name}.pdf'))\n",
    "    np.savetxt(os.path.join(outdir, f\"scores_raw_{name}.csv\"), scores_np, delimiter=\",\")\n",
    "    np.savetxt(os.path.join(outdir, f\"scores_normed_{name}.csv\"), scores_normed, delimiter=\",\")\n",
    "    np.savetxt(os.path.join(outdir, f\"score_{name}.csv\"), score[np.newaxis], delimiter=\",\")\n",
    "    np.savetxt(os.path.join(outdir, f\"n_discovered_{name}.csv\"), n_discovered[np.newaxis], delimiter=\",\")\n",
    "    return score"
   ]
  },
  {
   "cell_type": "code",
   "execution_count": 82,
   "id": "0772fb29",
   "metadata": {},
   "outputs": [],
   "source": [
    "# used_dims = argsort_percept(G, M, D)\n",
    "def argsort_percept(G, M, n_samples_dim=100):\n",
    "    pnet = lpips.LPIPS(net='alex', lpips=False).to(device)\n",
    "    img_mean = torch.tensor([0.485, 0.456, 0.406]).to(device).view(1,3,1,1)\n",
    "    img_std = torch.tensor([0.229, 0.224, 0.225]).to(device).view(1,3,1,1)\n",
    "    rand_state = np.random.RandomState()\n",
    "    percept_ls = []\n",
    "    for i in range(M.nv_dim):\n",
    "        print('computing dim:', i)\n",
    "        diff_ls_i = []\n",
    "        for j in range(0, n_samples_dim, batch_gpu):\n",
    "            b = batch_gpu if j+batch_gpu <= n_samples_per else n_samples_per-j\n",
    "\n",
    "            z = torch.from_numpy(rand_state.randn(b, G.z_dim)).to(device)\n",
    "            c = torch.from_numpy(rand_state.randn(b, G.c_dim)).to(device)\n",
    "            w = G.mapping(z, c, truncation_psi=truncation_psi) # (b, num_ws, w_dim)\n",
    "\n",
    "            #print(M.device)\n",
    "            print(w.device)\n",
    "            dirs = M(w) # [b, nv_dim, num_ws, w_dim]\n",
    "            w_1 = w - dirs[:, i]\n",
    "            w_2 = w + dirs[:, i] # [b, num_ws, w_dim]\n",
    "\n",
    "            images = torch.cat([G.synthesis(w_1, noise_mode='const'),\n",
    "                                G.synthesis(w_2, noise_mode='const')], dim=0) # (2b, c, h, w)\n",
    "        \n",
    "            # Normalize to fit model D\n",
    "            # images_flat = images.view(2*b, -1)\n",
    "            # img_min, img_max = images_flat.min(dim=-1)[0], images_flat.max(dim=-1)[0]\n",
    "            # images = (images - img_min.view(2*b, 1, 1, 1)) / (img_max - img_min).view(2*b, 1, 1, 1)\n",
    "            images = (images + 1.) / 2. # From [-1, 1] to [0, 1]\n",
    "            images = (images - img_mean) / img_std\n",
    "            \n",
    "            diff = pnet(images[:b], images[b:]).squeeze() # [b]\n",
    "            diff_ls_i.append(diff.to('cpu'))\n",
    "        print(diff_ls_i)\n",
    "        diff_i_sum = torch.cat(diff_ls_i, dim=0).sum()\n",
    "        percept_ls.append(diff_i_sum)\n",
    "    percept = torch.tensor(percept_ls, device=device)\n",
    "    _, idx_sort = torch.sort(percept, descending=True)\n",
    "    return idx_sort\n",
    "        "
   ]
  },
  {
   "cell_type": "code",
   "execution_count": 80,
   "id": "f2e334af",
   "metadata": {},
   "outputs": [
    {
     "name": "stdout",
     "output_type": "stream",
     "text": [
      "Done\n"
     ]
    }
   ],
   "source": [
    "attr_names = ['azimuth',#0\n",
    "                'haircolor',#1\n",
    "                'smile',#2\n",
    "                'gender',#3\n",
    "                'main_fringe',#4\n",
    "                'left_fringe',#5\n",
    "                'age',#6\n",
    "                'light_right',#7\n",
    "                'light_left',#8\n",
    "                'light_vertical',#9\n",
    "                'hair_style',#10\n",
    "                'clothes_color',#11\n",
    "                'saturation',#12\n",
    "                'ambient_color',#13\n",
    "                'elevation',#14\n",
    "                'neck',#15\n",
    "                'right_shoulder',#16\n",
    "                'left_shoulder',#17\n",
    "                'background_1',#18\n",
    "                'background_2',#19\n",
    "                'background_3',#20\n",
    "                'background_4',#21\n",
    "                'right_object',#22\n",
    "                'left_object']#23\n",
    "used_attr_idx = [0,1,2,3,4,5,6,7,8,9,10,11,14,16,17] # more accurate\n",
    "# used_attr_idx = list(range(24))\n",
    "# === contra-1 not goood\n",
    "navigator_pkl = '/mnt/hpc_scratch/stylegan2-ada-pytorch/nav_eccv22_atl_fixedES_neig30_ffhq512_1/00008-ffhq512-z_30-lr_0.01-wals_0.3-prand_F-vart_s-mcont_1-dis_512-dic_3-mir_T-ldimg_T-ndup_1-sensor_alex-sensl_10-ftop_T-fdf_F-at_fixed-nt_fixedES-neig_30-afc_3-nfc_3-atl_14-atg_3-cont_0-pos_1-neg_1-div_0.1-ncol_2-dys_T-vars_1-kimg1000-batch28/network-snapshot-001000.pkl'\n",
    "# === contra-2\n",
    "# navigator_pkl = '/mnt/hpc_scratch/stylegan2-ada-pytorch/nav_cvpr22_mir_hw_mcont_dis_div_neg_ffhq512/good-00014-ffhq512-z_32-lr_0.1-wals_1-prand_F-vart_s-mcont_1-dis_256-dic_3-mir_T-sensor_alex-sensl_10-ftop_T-fdf_F-vmul_T-at_fixed-nt_fixedE-neig_300-afc_3-nfc_3-atl_16-atg_3-cont_0-pos_1-neg_1-div_0.1-ncol_16-dys_T-vars_0.5-kimg200-batch12/network-snapshot-000200.pkl'\n",
    "# === pca_base\n",
    "# navigator_pkl = '/mnt/hpc_scratch/stylegan2-ada-pytorch/nav_eccv22_pcabase_ffhq512/00002-ffhq512-z_50-lr_0.01-wals_1-prand_F-vart_s-mcont_0-dis_512-dic_3-mir_T-ldimg_T-ndup_1-sensor_alex-sensl_10-ftop_T-fdf_F-vmul_T-at_none-nt_pca-neig_100-afc_3-nfc_3-atl_16-atg_3-cont_0-pos_1-neg_1-div_0-ncol_2-dys_T-vars_0.5-kimg80-batch6/network-snapshot-init.pkl'\n",
    "# === sefa_base\n",
    "# navigator_pkl = '/mnt/hpc_scratch/stylegan2-ada-pytorch/nav_eccv22_sefabase_ffhq512/00000-ffhq512-z_30-lr_0.01-wals_0.3-prand_F-vart_s-mcont_1-dis_512-dic_3-mir_T-ldimg_T-ndup_1-sensor_alex-sensl_10-ftop_T-fdf_F-at_none-nt_sefa-neig_4-afc_3-nfc_3-atl_16-atg_3-cont_0-pos_1-neg_1-div_0.1-ncol_2-dys_T-vars_0.5-kimg1-batch24/network-snapshot-init.pkl'\n",
    "# === recog-at_fixed-nv_fixed\n",
    "# navigator_pkl = '/mnt/hpc_scratch/stylegan2-ada-pytorch/nav_eccv22_recogbase_ffhq512/00002-ffhq512-z_30-lr_0.01-wals_0.3-prand_F-mcont_0-sensor_alex-Rpre_T-recg_1-vs_0.25-sensl_10-ftop_T-fdf_F-at_fixed-nt_fixed-neig_4-afc_3-nfc_3-atl_16-atg_3-cont_0-pos_1-neg_1-div_0.1-ncol_2-dys_T-vars_0.5-kimg1000-batch8/network-snapshot-001000.pkl'\n",
    "M = load_M(navigator_pkl)\n",
    "print('Done')"
   ]
  },
  {
   "cell_type": "code",
   "execution_count": 83,
   "id": "0c59dba3",
   "metadata": {},
   "outputs": [
    {
     "name": "stdout",
     "output_type": "stream",
     "text": [
      "Setting up [baseline] perceptual loss: trunk [alex], v[0.1], spatial [off]\n",
      "computing dim: 0\n",
      "cuda:1\n"
     ]
    },
    {
     "ename": "RuntimeError",
     "evalue": "Expected tensor for 'out' to have the same device as tensor for argument #3 'mat2'; but device 1 does not equal 0 (while checking arguments for addmm)",
     "output_type": "error",
     "traceback": [
      "\u001b[0;31m---------------------------------------------------------------------------\u001b[0m",
      "\u001b[0;31mRuntimeError\u001b[0m                              Traceback (most recent call last)",
      "\u001b[0;32m<ipython-input-83-91aa905bd9cf>\u001b[0m in \u001b[0;36m<module>\u001b[0;34m\u001b[0m\n\u001b[0;32m----> 1\u001b[0;31m \u001b[0mused_dims\u001b[0m \u001b[0;34m=\u001b[0m \u001b[0margsort_percept\u001b[0m\u001b[0;34m(\u001b[0m\u001b[0mG\u001b[0m\u001b[0;34m,\u001b[0m \u001b[0mM\u001b[0m\u001b[0;34m,\u001b[0m \u001b[0mn_samples_dim\u001b[0m\u001b[0;34m=\u001b[0m\u001b[0;36m20\u001b[0m\u001b[0;34m)\u001b[0m \u001b[0;31m# [4,2,6,10]\u001b[0m\u001b[0;34m\u001b[0m\u001b[0;34m\u001b[0m\u001b[0m\n\u001b[0m\u001b[1;32m      2\u001b[0m \u001b[0mprint\u001b[0m\u001b[0;34m(\u001b[0m\u001b[0;34m'used_dims:'\u001b[0m\u001b[0;34m,\u001b[0m \u001b[0mused_dims\u001b[0m\u001b[0;34m)\u001b[0m\u001b[0;34m\u001b[0m\u001b[0;34m\u001b[0m\u001b[0m\n",
      "\u001b[0;32m<ipython-input-82-91111f43df3f>\u001b[0m in \u001b[0;36margsort_percept\u001b[0;34m(G, M, n_samples_dim)\u001b[0m\n\u001b[1;32m     18\u001b[0m             \u001b[0;31m#print(M.device)\u001b[0m\u001b[0;34m\u001b[0m\u001b[0;34m\u001b[0m\u001b[0;34m\u001b[0m\u001b[0m\n\u001b[1;32m     19\u001b[0m             \u001b[0mprint\u001b[0m\u001b[0;34m(\u001b[0m\u001b[0mw\u001b[0m\u001b[0;34m.\u001b[0m\u001b[0mdevice\u001b[0m\u001b[0;34m)\u001b[0m\u001b[0;34m\u001b[0m\u001b[0;34m\u001b[0m\u001b[0m\n\u001b[0;32m---> 20\u001b[0;31m             \u001b[0mdirs\u001b[0m \u001b[0;34m=\u001b[0m \u001b[0mM\u001b[0m\u001b[0;34m(\u001b[0m\u001b[0mw\u001b[0m\u001b[0;34m)\u001b[0m \u001b[0;31m# [b, nv_dim, num_ws, w_dim]\u001b[0m\u001b[0;34m\u001b[0m\u001b[0;34m\u001b[0m\u001b[0m\n\u001b[0m\u001b[1;32m     21\u001b[0m             \u001b[0mw_1\u001b[0m \u001b[0;34m=\u001b[0m \u001b[0mw\u001b[0m \u001b[0;34m-\u001b[0m \u001b[0mdirs\u001b[0m\u001b[0;34m[\u001b[0m\u001b[0;34m:\u001b[0m\u001b[0;34m,\u001b[0m \u001b[0mi\u001b[0m\u001b[0;34m]\u001b[0m\u001b[0;34m\u001b[0m\u001b[0;34m\u001b[0m\u001b[0m\n\u001b[1;32m     22\u001b[0m             \u001b[0mw_2\u001b[0m \u001b[0;34m=\u001b[0m \u001b[0mw\u001b[0m \u001b[0;34m+\u001b[0m \u001b[0mdirs\u001b[0m\u001b[0;34m[\u001b[0m\u001b[0;34m:\u001b[0m\u001b[0;34m,\u001b[0m \u001b[0mi\u001b[0m\u001b[0;34m]\u001b[0m \u001b[0;31m# [b, num_ws, w_dim]\u001b[0m\u001b[0;34m\u001b[0m\u001b[0;34m\u001b[0m\u001b[0m\n",
      "\u001b[0;32m~/anaconda3/envs/pt17/lib/python3.6/site-packages/torch/nn/modules/module.py\u001b[0m in \u001b[0;36m_call_impl\u001b[0;34m(self, *input, **kwargs)\u001b[0m\n\u001b[1;32m    725\u001b[0m             \u001b[0mresult\u001b[0m \u001b[0;34m=\u001b[0m \u001b[0mself\u001b[0m\u001b[0;34m.\u001b[0m\u001b[0m_slow_forward\u001b[0m\u001b[0;34m(\u001b[0m\u001b[0;34m*\u001b[0m\u001b[0minput\u001b[0m\u001b[0;34m,\u001b[0m \u001b[0;34m**\u001b[0m\u001b[0mkwargs\u001b[0m\u001b[0;34m)\u001b[0m\u001b[0;34m\u001b[0m\u001b[0;34m\u001b[0m\u001b[0m\n\u001b[1;32m    726\u001b[0m         \u001b[0;32melse\u001b[0m\u001b[0;34m:\u001b[0m\u001b[0;34m\u001b[0m\u001b[0;34m\u001b[0m\u001b[0m\n\u001b[0;32m--> 727\u001b[0;31m             \u001b[0mresult\u001b[0m \u001b[0;34m=\u001b[0m \u001b[0mself\u001b[0m\u001b[0;34m.\u001b[0m\u001b[0mforward\u001b[0m\u001b[0;34m(\u001b[0m\u001b[0;34m*\u001b[0m\u001b[0minput\u001b[0m\u001b[0;34m,\u001b[0m \u001b[0;34m**\u001b[0m\u001b[0mkwargs\u001b[0m\u001b[0;34m)\u001b[0m\u001b[0;34m\u001b[0m\u001b[0;34m\u001b[0m\u001b[0m\n\u001b[0m\u001b[1;32m    728\u001b[0m         for hook in itertools.chain(\n\u001b[1;32m    729\u001b[0m                 \u001b[0m_global_forward_hooks\u001b[0m\u001b[0;34m.\u001b[0m\u001b[0mvalues\u001b[0m\u001b[0;34m(\u001b[0m\u001b[0;34m)\u001b[0m\u001b[0;34m,\u001b[0m\u001b[0;34m\u001b[0m\u001b[0;34m\u001b[0m\u001b[0m\n",
      "\u001b[0;32m<string>\u001b[0m in \u001b[0;36mforward\u001b[0;34m(self, ws_in)\u001b[0m\n",
      "\u001b[0;32m~/anaconda3/envs/pt17/lib/python3.6/site-packages/torch/nn/modules/module.py\u001b[0m in \u001b[0;36m_call_impl\u001b[0;34m(self, *input, **kwargs)\u001b[0m\n\u001b[1;32m    725\u001b[0m             \u001b[0mresult\u001b[0m \u001b[0;34m=\u001b[0m \u001b[0mself\u001b[0m\u001b[0;34m.\u001b[0m\u001b[0m_slow_forward\u001b[0m\u001b[0;34m(\u001b[0m\u001b[0;34m*\u001b[0m\u001b[0minput\u001b[0m\u001b[0;34m,\u001b[0m \u001b[0;34m**\u001b[0m\u001b[0mkwargs\u001b[0m\u001b[0;34m)\u001b[0m\u001b[0;34m\u001b[0m\u001b[0;34m\u001b[0m\u001b[0m\n\u001b[1;32m    726\u001b[0m         \u001b[0;32melse\u001b[0m\u001b[0;34m:\u001b[0m\u001b[0;34m\u001b[0m\u001b[0;34m\u001b[0m\u001b[0m\n\u001b[0;32m--> 727\u001b[0;31m             \u001b[0mresult\u001b[0m \u001b[0;34m=\u001b[0m \u001b[0mself\u001b[0m\u001b[0;34m.\u001b[0m\u001b[0mforward\u001b[0m\u001b[0;34m(\u001b[0m\u001b[0;34m*\u001b[0m\u001b[0minput\u001b[0m\u001b[0;34m,\u001b[0m \u001b[0;34m**\u001b[0m\u001b[0mkwargs\u001b[0m\u001b[0;34m)\u001b[0m\u001b[0;34m\u001b[0m\u001b[0;34m\u001b[0m\u001b[0m\n\u001b[0m\u001b[1;32m    728\u001b[0m         for hook in itertools.chain(\n\u001b[1;32m    729\u001b[0m                 \u001b[0m_global_forward_hooks\u001b[0m\u001b[0;34m.\u001b[0m\u001b[0mvalues\u001b[0m\u001b[0;34m(\u001b[0m\u001b[0;34m)\u001b[0m\u001b[0;34m,\u001b[0m\u001b[0;34m\u001b[0m\u001b[0;34m\u001b[0m\u001b[0m\n",
      "\u001b[0;32m<string>\u001b[0m in \u001b[0;36mforward\u001b[0;34m(self, ws_in)\u001b[0m\n",
      "\u001b[0;31mRuntimeError\u001b[0m: Expected tensor for 'out' to have the same device as tensor for argument #3 'mat2'; but device 1 does not equal 0 (while checking arguments for addmm)"
     ]
    }
   ],
   "source": [
    "used_dims = argsort_percept(G, M, n_samples_dim=20) # [4,2,6,10]\n",
    "print('used_dims:', used_dims)"
   ]
  },
  {
   "cell_type": "code",
   "execution_count": 72,
   "id": "ae43ba52",
   "metadata": {},
   "outputs": [],
   "source": [
    "# pca_used_dims = used_dims\n",
    "# pca_var_scale_ls = [3,3,3,3,3,3,\n",
    "#                    2,2,2,2,2,2,\n",
    "#                    2,2,2,2,2,2,\n",
    "#                    2,2,2,2,2,2,\n",
    "#                    2,2,2,2,2,2]\n",
    "#try_var_scale_ls(M, var_scale_ls=pca_var_scale_ls, used_dims=pca_used_dims, idx=29, seed=2001)\n",
    "\n",
    "# === contra-1\n",
    "# contra_var_scale_ls = [0.5,5,5,0.5,0.5,1,\n",
    "#                       1,0.5,0.5,1,0.5,0.5,\n",
    "#                       0.5,5,1,0.5,0.5,1,\n",
    "#                       5,1,3,1,0.5,1,\n",
    "#                       0.5,0.5,3,1,0.5,1]\n",
    "# try_var_scale_ls(M, var_scale_ls=contra_var_scale_ls, idx=3, seed=112)\n",
    "\n",
    "# === contra-2\n",
    "# contra_var_scale_ls = [1,5,5,0.5,1,5,\n",
    "#                       0.5,1,0.5,0.5,5,0.5,\n",
    "#                       2,3,0.5,0.3,2,0.3,\n",
    "#                       0.3,5,2,2,1,2,\n",
    "#                       2,0.5,0.5,0.5,5,0.5,\n",
    "#                       0.5,0.5]\n",
    "#try_var_scale_ls(M, var_scale_ls=contra_var_scale_ls, idx=31, seed=20)\n",
    "\n",
    "# sefa_var_scale_ls = [2,3,4,3,3,3,\n",
    "#                       3,3,3,3,2,2,\n",
    "#                       2,2,1.5,1.5,1.5,1.5,\n",
    "#                       1.5,1.5,1.5,1.5,1.5,1.5,\n",
    "#                       1.5,1.5,1.5,1.5,1.5,1.5]\n",
    "# try_var_scale_ls(M, var_scale_ls=sefa_var_scale_ls, idx=29, seed=2013)\n",
    "\n",
    "# recog_var_scale_ls = [0.5,0.5,0.5,0.5,0.5,5,\n",
    "#                       5,0.5,0.5,5,0.5,0.5,\n",
    "#                       1,0.5,0.5,0.3,0.5,0.5,\n",
    "#                       5,1,1,0.5,0.5,5,\n",
    "#                       0.5,0.3,0.3,0.5,0.5,5]\n",
    "# try_var_scale_ls(M, var_scale_ls=recog_var_scale_ls, idx=29, seed=2016)"
   ]
  },
  {
   "cell_type": "code",
   "execution_count": 68,
   "id": "ecee150e",
   "metadata": {},
   "outputs": [
    {
     "name": "stdout",
     "output_type": "stream",
     "text": [
      "Processing dim 0\n",
      "Processing dim 1\n",
      "Processing dim 2\n",
      "Processing dim 3\n",
      "Processing dim 4\n",
      "Processing dim 5\n",
      "Processing dim 6\n",
      "Processing dim 7\n",
      "Processing dim 8\n",
      "Processing dim 9\n",
      "Processing dim 10\n",
      "Processing dim 11\n",
      "Processing dim 12\n",
      "Processing dim 13\n",
      "Processing dim 14\n",
      "Processing dim 15\n",
      "Processing dim 16\n",
      "Processing dim 17\n",
      "Processing dim 18\n",
      "Processing dim 19\n",
      "Processing dim 20\n",
      "Processing dim 21\n",
      "Processing dim 22\n",
      "Processing dim 23\n",
      "Processing dim 24\n",
      "Processing dim 25\n",
      "Processing dim 26\n",
      "Processing dim 27\n",
      "Processing dim 28\n",
      "Processing dim 29\n"
     ]
    }
   ],
   "source": [
    "# pca_attr_ls = evaluate_model(G, M, D, var_scale_ls=pca_var_scale_ls, used_dims=pca_used_dims[:len(pca_var_scale_ls)])\n",
    "# contra_attr_ls = evaluate_model(G, M, D, var_scale_ls=contra_var_scale_ls, max_nv_dim=32)\n",
    "# sefa_attr_ls = evaluate_model(G, M, D, var_scale_ls=sefa_var_scale_ls, used_dims=list(range(30)))\n",
    "# recog_attr_ls = evaluate_model(G, M, D, var_scale_ls=recog_var_scale_ls, used_dims=list(range(30)))"
   ]
  },
  {
   "cell_type": "code",
   "execution_count": 69,
   "id": "21cfd8cb",
   "metadata": {},
   "outputs": [
    {
     "name": "stdout",
     "output_type": "stream",
     "text": [
      "torch.Size([30, 24])\n",
      "before normed: 0.11562541\n",
      "after normed: 0.23424791\n",
      "attr_discovered: [ True  True  True  True  True False False  True  True  True False False\n",
      "  True False False]\n",
      "n_discovered: 9\n"
     ]
    },
    {
     "data": {
      "image/png": "[encoded data removed]",
      "text/plain": [
       "<Figure size 432x288 with 2 Axes>"
      ]
     },
     "metadata": {
      "needs_background": "light"
     },
     "output_type": "display_data"
    }
   ],
   "source": [
    "pca_score = summarize(pca_attr_ls, name='pca')"
   ]
  },
  {
   "cell_type": "code",
   "execution_count": 750,
   "id": "09de081a",
   "metadata": {},
   "outputs": [
    {
     "name": "stdout",
     "output_type": "stream",
     "text": [
      "torch.Size([15, 24])\n",
      "before normed: 0.0794868\n",
      "after normed: 0.20415053\n",
      "attr_discovered: [False  True False  True  True False False  True  True False  True False\n",
      "  True  True  True]\n",
      "n_discovered: 9\n"
     ]
    },
    {
     "data": {
      "image/png": "[encoded data removed]",
      "text/plain": [
       "<Figure size 432x288 with 2 Axes>"
      ]
     },
     "metadata": {
      "needs_background": "light"
     },
     "output_type": "display_data"
    }
   ],
   "source": [
    "contra_score = summarize(contra_attr_ls[:15], name='contra')"
   ]
  },
  {
   "cell_type": "code",
   "execution_count": 751,
   "id": "08a57463",
   "metadata": {},
   "outputs": [
    {
     "name": "stdout",
     "output_type": "stream",
     "text": [
      "torch.Size([15, 24])\n",
      "before normed: 0.1288536\n",
      "after normed: 0.22934034\n",
      "attr_discovered: [ True False False  True  True False False  True  True  True False False\n",
      "  True False False]\n",
      "n_discovered: 7\n"
     ]
    },
    {
     "data": {
      "image/png": "[encoded data removed]",
      "text/plain": [
       "<Figure size 432x288 with 2 Axes>"
      ]
     },
     "metadata": {
      "needs_background": "light"
     },
     "output_type": "display_data"
    }
   ],
   "source": [
    "sefa_score = summarize(sefa_attr_ls[:15])"
   ]
  },
  {
   "cell_type": "code",
   "execution_count": 752,
   "id": "40fadd1e",
   "metadata": {},
   "outputs": [
    {
     "name": "stdout",
     "output_type": "stream",
     "text": [
      "torch.Size([15, 24])\n",
      "before normed: 0.103462\n",
      "after normed: 0.36717668\n",
      "attr_discovered: [ True  True  True  True  True False False  True  True False False False\n",
      " False False False]\n",
      "n_discovered: 7\n"
     ]
    },
    {
     "data": {
      "image/png": "[encoded data removed]",
      "text/plain": [
       "<Figure size 432x288 with 2 Axes>"
      ]
     },
     "metadata": {
      "needs_background": "light"
     },
     "output_type": "display_data"
    }
   ],
   "source": [
    "recog_score = summarize(recog_attr_ls[:15], name='recog')"
   ]
  }
 ],
 "metadata": {
  "kernelspec": {
   "display_name": "Python [conda env:pt17] *",
   "language": "python",
   "name": "conda-env-pt17-py"
  },
  "language_info": {
   "codemirror_mode": {
    "name": "ipython",
    "version": 3
   },
   "file_extension": ".py",
   "mimetype": "text/x-python",
   "name": "python",
   "nbconvert_exporter": "python",
   "pygments_lexer": "ipython3",
   "version": "3.6.12"
  }
 },
 "nbformat": 4,
 "nbformat_minor": 5
}
