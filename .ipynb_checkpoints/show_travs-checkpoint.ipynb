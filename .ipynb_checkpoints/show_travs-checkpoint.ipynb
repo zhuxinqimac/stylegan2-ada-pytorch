{
 "cells": [
  {
   "cell_type": "code",
   "execution_count": null,
   "id": "9d926069",
   "metadata": {},
   "outputs": [],
   "source": [
    "#!/usr/bin/python\n",
    "#-*- coding: utf-8 -*-\n",
    "\n",
    "# >.>.>.>.>.>.>.>.>.>.>.>.>.>.>.>.\n",
    "# Licensed under the Apache License, Version 2.0 (the \"License\")\n",
    "# You may obtain a copy of the License at\n",
    "# http://www.apache.org/licenses/LICENSE-2.0\n",
    "\n",
    "# --- File Name: show_travs\n",
    "# --- Author: Xinqi Zhu\n",
    "# .<.<.<.<.<.<.<.<.<.<.<.<.<.<.<.<\n",
    "\"\"\"\n",
    "Show traversals for nav models.\n",
    "\"\"\"\n",
    "%matplotlib inline\n",
    "\n",
    "import os\n",
    "\n",
    "from typing import List\n",
    "import pickle\n",
    "import click\n",
    "import matplotlib.pyplot as plt\n",
    "import dnnlib\n",
    "import numpy as np\n",
    "import torch\n",
    "import torch.nn.functional as F\n",
    "\n",
    "from training.w_walk_utils import get_w_walk, get_w_walk_SVD_step\n",
    "\n",
    "import legacy"
   ]
  },
  {
   "cell_type": "code",
   "execution_count": null,
   "id": "95b1913e",
   "metadata": {},
   "outputs": [],
   "source": [
    "generator_pkl = 'ffhq512'\n",
    "navigator_pkl = '/mnt/hpc_scratch/stylegan2-ada-pytorch/nav_eccv22_neig1_fixedE_ffhq512/00000-ffhq512-z_3-lr_0.01-wals_1-prand_F-vart_s-mcont_1-dis_512-dic_3-mir_T-ldimg_T-ndup_1-sensor_alex-sensl_10-ftop_T-fdf_F-vmul_T-at_fixed-nt_fixedE-neig_1-afc_3-nfc_3-atl_16-atg_3-cont_0-pos_1-neg_1-div_0.1-ncol_2-dys_T-vars_0.5-kimg160-batch28/network-snapshot-000040.pkl'\n",
    "truncation_psi = 0.5"
   ]
  },
  {
   "cell_type": "code",
   "execution_count": null,
   "id": "362c80ea",
   "metadata": {},
   "outputs": [],
   "source": [
    "print('Loading generator networks from \"%s\"...' % generator_pkl)\n",
    "\n",
    "resume_specs = {\n",
    "    'ffhq256':     'https://nvlabs-fi-cdn.nvidia.com/stylegan2-ada-pytorch/pretrained/transfer-learning-source-nets/ffhq-res256-mirror-paper256-noaug.pkl',\n",
    "    'ffhq512':     'https://nvlabs-fi-cdn.nvidia.com/stylegan2-ada-pytorch/pretrained/transfer-learning-source-nets/ffhq-res512-mirror-stylegan2-noaug.pkl',\n",
    "    'ffhq1024':    'https://nvlabs-fi-cdn.nvidia.com/stylegan2-ada-pytorch/pretrained/transfer-learning-source-nets/ffhq-res1024-mirror-stylegan2-noaug.pkl',\n",
    "    'celebahq256': 'https://nvlabs-fi-cdn.nvidia.com/stylegan2-ada-pytorch/pretrained/transfer-learning-source-nets/celebahq-res256-mirror-paper256-kimg100000-ada-target0.5.pkl',\n",
    "    'lsundog256':  'https://nvlabs-fi-cdn.nvidia.com/stylegan2-ada-pytorch/pretrained/transfer-learning-source-nets/lsundog-res256-paper256-kimg100000-noaug.pkl',\n",
    "}\n",
    "\n",
    "assert generator_pkl is not None\n",
    "if generator_pkl in resume_specs:\n",
    "    generator_pkl = resume_specs[generator_pkl] # predefined url\n",
    "\n",
    "device = torch.device('cuda:0')\n",
    "# device = torch.device('cpu')\n",
    "with dnnlib.util.open_url(generator_pkl) as f:\n",
    "    G = legacy.load_network_pkl(f)['G_ema'].requires_grad_(False).to(device) # type: ignore\n",
    "\n",
    "with open(navigator_pkl, 'rb') as f:\n",
    "    resume_data = pickle.load(f)\n",
    "    M = resume_data['M'].requires_grad_(False).to(device)"
   ]
  },
  {
   "cell_type": "code",
   "execution_count": null,
   "id": "046394de",
   "metadata": {},
   "outputs": [],
   "source": [
    "walk_grid_size = (n_samples_per, M.nv_dim) # (gw, gh)\n",
    "\n",
    "z_origin = torch.randn([1, G.z_dim], device=device)\n",
    "c_origin = torch.randn([1, G.c_dim], device=device)\n",
    "w_origin = G.mapping(z_origin, c_origin, truncation_psi=truncation_psi) # (1, num_ws, w_dim)\n",
    "dirs_orig = M(w_origin) # [1, n_lat, num_ws, w_dim]\n",
    "_, n_lat, num_ws, w_dim = dirs_orig.shape\n",
    "#w_origin = w_origin.repeat(n_lat, 1, 1)\n",
    "\n",
    "steps = []\n",
    "step = w_origin.clone() # [1, num_ws, w_dim]\n",
    "steps.append(step)\n",
    "\n",
    "for i in range(M.nv_dim):\n",
    "    w_tmp = w_origin.clone()\n",
    "    for _ in range(n_samples_per // 2):\n",
    "        \n",
    "        delta = dirs[range(n_lat), range(n_lat)]\n",
    "        step = step - step_size * step_scale * delta # [n_lat, num_ws, w_dim]\n",
    "        steps = [step[:, np.newaxis, ...]] + steps\n",
    "\n",
    "#get_w_walk(w_origin, M, n_samples_per, step_size, recursive_walk=True, tiny_step=None, use_pca_scale=False, semi_inverse=False)"
   ]
  }
 ],
 "metadata": {
  "kernelspec": {
   "display_name": "Python [conda env:pt17] *",
   "language": "python",
   "name": "conda-env-pt17-py"
  },
  "language_info": {
   "codemirror_mode": {
    "name": "ipython",
    "version": 3
   },
   "file_extension": ".py",
   "mimetype": "text/x-python",
   "name": "python",
   "nbconvert_exporter": "python",
   "pygments_lexer": "ipython3",
   "version": "3.6.12"
  }
 },
 "nbformat": 4,
 "nbformat_minor": 5
}
